{
 "cells": [
  {
   "cell_type": "code",
   "execution_count": 1,
   "id": "26a841a3",
   "metadata": {},
   "outputs": [
    {
     "name": "stdout",
     "output_type": "stream",
     "text": [
      "Loaded model from '../src/ais_model_fold_5.pkl'.\n",
      "Random Sample Predictions:\n",
      "   Sample Index  True Label  Predicted Label  Prediction Probability\n",
      "0      15047677           1                1                0.832914\n",
      "1      14185700           1                1                0.906402\n",
      "2       8753685           1                1                0.993865\n",
      "3       8652243           1                1                0.973712\n",
      "4      20383046           1                1                0.978792\n",
      "5      17558889           0                0                0.003033\n",
      "6      26376168           0                0                0.000179\n",
      "7      26218719           1                1                0.953149\n",
      "8      20383494           0                0                0.103110\n",
      "9      12179868           0                0                0.005276\n"
     ]
    },
    {
     "data": {
      "image/png": "[encoded data removed]",
      "text/plain": [
       "<Figure size 600x400 with 2 Axes>"
      ]
     },
     "metadata": {},
     "output_type": "display_data"
    },
    {
     "name": "stdout",
     "output_type": "stream",
     "text": [
      "\n",
      "Classification Report for Random Samples:\n",
      "              precision    recall  f1-score   support\n",
      "\n",
      "           0       1.00      1.00      1.00         4\n",
      "           1       1.00      1.00      1.00         6\n",
      "\n",
      "    accuracy                           1.00        10\n",
      "   macro avg       1.00      1.00      1.00        10\n",
      "weighted avg       1.00      1.00      1.00        10\n",
      "\n"
     ]
    }
   ],
   "source": [
    "# Import necessary libraries\n",
    "import joblib\n",
    "import pandas as pd\n",
    "import numpy as np\n",
    "from data_loader import load_and_preprocess_ais_data  # Import the data loader function\n",
    "from sklearn.metrics import classification_report, confusion_matrix\n",
    "import matplotlib.pyplot as plt\n",
    "import seaborn as sns\n",
    "\n",
    "# Load the preprocessed AIS data\n",
    "ais_data_dir = \"../data/ais/ais-sample-data\"\n",
    "ais_data = load_and_preprocess_ais_data(ais_data_dir)\n",
    "\n",
    "# Encode 'source' column if it exists\n",
    "if 'source' in ais_data.columns:\n",
    "    from sklearn.preprocessing import LabelEncoder\n",
    "    encoder = LabelEncoder()\n",
    "    ais_data['source'] = encoder.fit_transform(ais_data['source'])\n",
    "\n",
    "# Separate features and labels\n",
    "X = ais_data.drop(columns=['is_fishing'])\n",
    "y = ais_data['is_fishing']\n",
    "\n",
    "# Load the trained model (e.g., from the last fold)\n",
    "model_filename = \"../src/ais_model_fold_5.pkl\"  # Change the fold number if needed\n",
    "model = joblib.load(model_filename)\n",
    "print(f\"Loaded model from '{model_filename}'.\")\n",
    "\n",
    "# Select random samples from the training data\n",
    "random_samples = X.sample(10, random_state=42)  # Select 10 random samples\n",
    "random_labels = y.loc[random_samples.index]  # Get the true labels for the samples\n",
    "\n",
    "# Make predictions on the random samples\n",
    "predictions = model.predict(random_samples)\n",
    "predicted_probabilities = model.predict_proba(random_samples)[:, 1]\n",
    "\n",
    "# Display the results\n",
    "results = pd.DataFrame({\n",
    "    \"Sample Index\": random_samples.index,\n",
    "    \"True Label\": random_labels.values,\n",
    "    \"Predicted Label\": predictions,\n",
    "    \"Prediction Probability\": predicted_probabilities\n",
    "})\n",
    "print(\"Random Sample Predictions:\")\n",
    "print(results)\n",
    "\n",
    "# Plot a confusion matrix for the random samples\n",
    "cm = confusion_matrix(random_labels, predictions)\n",
    "plt.figure(figsize=(6, 4))\n",
    "sns.heatmap(cm, annot=True, fmt='d', cmap='Blues', xticklabels=['Not Fishing', 'Fishing'], yticklabels=['Not Fishing', 'Fishing'])\n",
    "plt.xlabel(\"Predicted\")\n",
    "plt.ylabel(\"Actual\")\n",
    "plt.title(\"Confusion Matrix for Random Samples\")\n",
    "plt.show()\n",
    "\n",
    "# Display classification report for the random samples\n",
    "print(\"\\nClassification Report for Random Samples:\")\n",
    "print(classification_report(random_labels, predictions))"
   ]
  }
 ],
 "metadata": {
  "kernelspec": {
   "display_name": "minor",
   "language": "python",
   "name": "python3"
  },
  "language_info": {
   "codemirror_mode": {
    "name": "ipython",
    "version": 3
   },
   "file_extension": ".py",
   "mimetype": "text/x-python",
   "name": "python",
   "nbconvert_exporter": "python",
   "pygments_lexer": "ipython3",
   "version": "3.13.3"
  }
 },
 "nbformat": 4,
 "nbformat_minor": 5
}
